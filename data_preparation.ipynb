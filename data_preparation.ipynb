{
 "cells": [
  {
   "cell_type": "markdown",
   "id": "512cbee9",
   "metadata": {},
   "source": [
    "# Convert Data to Json files"
   ]
  },
  {
   "cell_type": "code",
   "execution_count": 2,
   "id": "f5a33026",
   "metadata": {},
   "outputs": [],
   "source": [
    "# import requests, zipfile, io\n",
    "# from pathlib import Path\n",
    "\n",
    "# zip_url = \"https://public.ukp.informatik.tu-darmstadt.de/thakur/BEIR/datasets/fiqa.zip\"\n",
    "# out_dir = Path(\"fiqa\")\n",
    "# out_dir.mkdir(parents=True, exist_ok=True)\n",
    "\n",
    "# # Download the ZIP into memory (fine for small/medium files)\n",
    "# resp = requests.get(zip_url, timeout=120)\n",
    "# resp.raise_for_status()\n",
    "\n",
    "# # Extract all files\n",
    "# with zipfile.ZipFile(io.BytesIO(resp.content)) as z:\n",
    "#     z.extractall(out_dir)\n",
    "\n",
    "# print(f\"Extracted to: {out_dir.resolve()}\")\n"
   ]
  },
  {
   "cell_type": "code",
   "execution_count": null,
   "id": "49fe8b54",
   "metadata": {},
   "outputs": [],
   "source": [
    "import json\n",
    "\n",
    "def jsonl_to_json(jsonl_file, json_file):\n",
    "    data = []\n",
    "    with open(jsonl_file, 'r', encoding='utf-8') as f:\n",
    "        for line in f:\n",
    "            data.append(json.loads(line))\n",
    "\n",
    "    with open(json_file, 'w',encoding='utf-8') as f:\n",
    "        json.dump(data, f,indent=2, ensure_ascii=False)\n",
    "\n",
    "\n",
    "jsonl_to_json(r\"fiqa\\corpus.jsonl\", \"data/corpus.json\")\n",
    "jsonl_to_json(r\"fiqa\\queries.jsonl\", \"data/queries.json\")"
   ]
  },
  {
   "cell_type": "code",
   "execution_count": null,
   "id": "77628807",
   "metadata": {},
   "outputs": [],
   "source": [
    "import pandas as pd\n",
    "import os"
   ]
  },
  {
   "cell_type": "code",
   "execution_count": null,
   "id": "9ca98327",
   "metadata": {},
   "outputs": [],
   "source": [
    "def load_corpus(path):\n",
    "    corpus = {}\n",
    "    ext = os.path.splitext(path.lower())[1]\n",
    "    with open(path, \"r\", encoding=\"utf-8\") as f:\n",
    "        if ext == \".jsonl\":\n",
    "            raw = [json.loads(line) for line in f if line.strip()]\n",
    "        elif ext == \".json\":\n",
    "            raw = json.load(f)\n",
    "        else:\n",
    "            raise ValueError(f\"Unsupported file extension: {ext}\")\n",
    "\n",
    "    if isinstance(raw, dict):  \n",
    "        for k, v in raw.items():\n",
    "            corpus[str(k)] = {\n",
    "                \"title\": v.get(\"title\", \"\"),\n",
    "                \"text\": v.get(\"text\", \"\"),\n",
    "                \"metadata\": v.get(\"metadata\", {}) or {},\n",
    "            }\n",
    "    else:  \n",
    "        for obj in raw:\n",
    "            did = str(obj[\"_id\"])\n",
    "            corpus[did] = {\n",
    "                \"title\": obj.get(\"title\", \"\"),\n",
    "                \"text\": obj.get(\"text\", \"\"),\n",
    "                \"metadata\": obj.get(\"metadata\", {}) or {},\n",
    "            }\n",
    "    return corpus\n"
   ]
  },
  {
   "cell_type": "code",
   "execution_count": 5,
   "id": "46fef030",
   "metadata": {},
   "outputs": [],
   "source": [
    "def load_queries(path):\n",
    "    queries = {}\n",
    "    ext = os.path.splitext(path.lower())[1]\n",
    "    with open(path, \"r\", encoding=\"utf-8\") as f:\n",
    "        if ext == \".jsonl\":\n",
    "            raw = [json.loads(line) for line in f if line.strip()]\n",
    "        elif ext == \".json\":\n",
    "            raw = json.load(f)\n",
    "        else:\n",
    "            raise ValueError(f\"Unsupported file extension: {ext}\")\n",
    "\n",
    "    if isinstance(raw, dict):\n",
    "        for k, v in raw.items():\n",
    "            if isinstance(v, str):\n",
    "                queries[str(k)] = v\n",
    "            else:\n",
    "                queries[str(k)] = v.get(\"text\", \"\")\n",
    "    else:\n",
    "        for obj in raw:\n",
    "            qid = str(obj[\"_id\"])\n",
    "            queries[qid] = obj.get(\"text\", \"\")\n",
    "    return queries\n"
   ]
  },
  {
   "cell_type": "code",
   "execution_count": 6,
   "id": "29f364a9",
   "metadata": {},
   "outputs": [],
   "source": [
    "def load_qrels_tsv(path):\n",
    "    df = pd.read_csv(path, sep=\"\\t\", dtype=str, header=0)\n",
    "    cols = {c.lower().strip(): c for c in df.columns}\n",
    "\n",
    "    def pick(*cands):\n",
    "        for c in cands:\n",
    "            if c in cols:\n",
    "                return cols[c]\n",
    "        raise ValueError(f\"Missing columns in {path}\")\n",
    "\n",
    "    qcol = pick(\"query-id\", \"qid\", \"query_id\")\n",
    "    dcol = pick(\"corpus-id\", \"docid\", \"doc-id\", \"doc_id\")\n",
    "    scol = pick(\"score\", \"rel\", \"relevance\")\n",
    "\n",
    "    df[scol] = df[scol].astype(int)\n",
    "\n",
    "    qrels = {}\n",
    "    for _, row in df.iterrows():\n",
    "        qid = str(row[qcol])\n",
    "        did = str(row[dcol])\n",
    "        score = int(row[scol])\n",
    "        qrels.setdefault(qid, {})[did] = score\n",
    "    return qrels\n"
   ]
  },
  {
   "cell_type": "code",
   "execution_count": 7,
   "id": "faf79749",
   "metadata": {},
   "outputs": [],
   "source": [
    "def validate_split(name, corpus, queries, qrels):\n",
    "    corpus_ids = set(corpus.keys())\n",
    "    query_ids = set(queries.keys())\n",
    "    qrels_qids = set(qrels.keys())\n",
    "    qrels_dids = {d for docs in qrels.values() for d in docs}\n",
    "\n",
    "    orphan_q = qrels_qids - query_ids\n",
    "    orphan_d = qrels_dids - corpus_ids\n",
    "\n",
    "    print(f\"[{name}] queries in qrels: {len(qrels_qids)} | pairs: {sum(len(v) for v in qrels.values())}\")\n",
    "    print(f\"  orphan queries: {len(orphan_q)}\")\n",
    "    print(f\"  orphan docs:    {len(orphan_d)}\")\n",
    "    if orphan_q: print(\"   e.g.\", list(orphan_q)[:5])\n",
    "    if orphan_d: print(\"   e.g.\", list(orphan_d)[:5])\n"
   ]
  },
  {
   "cell_type": "code",
   "execution_count": 10,
   "id": "d19fd090",
   "metadata": {},
   "outputs": [
    {
     "name": "stdout",
     "output_type": "stream",
     "text": [
      "Corpus size:  57638\n",
      "Queries size: 6648\n",
      "[train] queries in qrels: 5500 | pairs: 14166\n",
      "  orphan queries: 0\n",
      "  orphan docs:    0\n",
      "[dev] queries in qrels: 500 | pairs: 1238\n",
      "  orphan queries: 0\n",
      "  orphan docs:    0\n",
      "[test] queries in qrels: 648 | pairs: 1706\n",
      "  orphan queries: 0\n",
      "  orphan docs:    0\n"
     ]
    }
   ],
   "source": [
    "corpus = load_corpus(\"data/corpus.json\")\n",
    "queries = load_queries(\"data/queries.json\")\n",
    "qrels_train = load_qrels_tsv(\"fiqa/qrels/train.tsv\")\n",
    "qrels_dev = load_qrels_tsv(\"fiqa/qrels/dev.tsv\")\n",
    "qrels_test = load_qrels_tsv(\"fiqa/qrels/test.tsv\")\n",
    "\n",
    "print(f\"Corpus size:  {len(corpus)}\")\n",
    "print(f\"Queries size: {len(queries)}\")\n",
    "\n",
    "validate_split(\"train\", corpus, queries, qrels_train)\n",
    "validate_split(\"dev\", corpus, queries, qrels_dev)\n",
    "validate_split(\"test\", corpus, queries, qrels_test)\n"
   ]
  },
  {
   "cell_type": "code",
   "execution_count": 21,
   "id": "4c5ad3d4",
   "metadata": {},
   "outputs": [
    {
     "name": "stdout",
     "output_type": "stream",
     "text": [
      "Merged qrels: 6648 queries, 17110 pairs\n"
     ]
    }
   ],
   "source": [
    "def merge_qrels(*splits):\n",
    "    merged = {}\n",
    "    for qrels in splits:\n",
    "        for qid, docs in qrels.items():\n",
    "            dst = merged.setdefault(qid, {})\n",
    "            for did, sc in docs.items():\n",
    "                dst[did] = max(sc, dst.get(did, 0))\n",
    "    return merged\n",
    "\n",
    "qrels_all = merge_qrels(qrels_train, qrels_dev, qrels_test)\n",
    "print(f\"Merged qrels: {len(qrels_all)} queries, {sum(len(v) for v in qrels_all.values())} pairs\")\n"
   ]
  },
  {
   "cell_type": "code",
   "execution_count": 22,
   "id": "c6cca9f9",
   "metadata": {},
   "outputs": [],
   "source": [
    "qrels_df = pd.DataFrame(qrels_all)"
   ]
  },
  {
   "cell_type": "code",
   "execution_count": 24,
   "id": "ed81877b",
   "metadata": {},
   "outputs": [],
   "source": [
    "qrels_df.to_csv(\"data/qrels_all.csv\", index=False)"
   ]
  },
  {
   "cell_type": "code",
   "execution_count": 3,
   "id": "f43a4b80",
   "metadata": {},
   "outputs": [],
   "source": [
    "with open (\"data/corpus.json\", 'r', encoding='utf-8') as f:\n",
    "    documents_raw =json.load(f)"
   ]
  },
  {
   "cell_type": "code",
   "execution_count": 5,
   "id": "af7e4c2c",
   "metadata": {},
   "outputs": [],
   "source": [
    "# Create function to convert tsv files to csv\n",
    "import pandas as pd\n",
    "def load_tsv_files(tsv_file):\n",
    "    df = pd.read_csv(tsv_file, sep=\"\\t\")\n",
    "    return df\n"
   ]
  },
  {
   "cell_type": "code",
   "execution_count": 6,
   "id": "d21e22d0",
   "metadata": {},
   "outputs": [],
   "source": [
    "dev_df = load_tsv_files(tsv_file= r\"fiqa\\qrels\\dev.tsv\")\n",
    "test_df = load_tsv_files(tsv_file= r\"fiqa\\qrels\\test.tsv\")\n",
    "train_df = load_tsv_files(tsv_file= r\"fiqa\\qrels\\train.tsv\")\n"
   ]
  },
  {
   "cell_type": "code",
   "execution_count": 7,
   "id": "47324366",
   "metadata": {},
   "outputs": [
    {
     "data": {
      "text/plain": [
       "(1238, 1706, 14166)"
      ]
     },
     "execution_count": 7,
     "metadata": {},
     "output_type": "execute_result"
    }
   ],
   "source": [
    "len(dev_df), len(test_df), len(train_df)"
   ]
  },
  {
   "cell_type": "code",
   "execution_count": 8,
   "id": "1c142b7e",
   "metadata": {},
   "outputs": [],
   "source": [
    "qrels = pd.concat([train_df, dev_df, test_df], ignore_index=True)"
   ]
  },
  {
   "cell_type": "code",
   "execution_count": 9,
   "id": "0a92f39f",
   "metadata": {},
   "outputs": [],
   "source": [
    "with open(\"data/queries.json\",'r',encoding=\"utf-8\") as f:\n",
    "    queries_doc = json.load(f)\n",
    "  "
   ]
  }
 ],
 "metadata": {
  "kernelspec": {
   "display_name": "finance-retrieve",
   "language": "python",
   "name": "python3"
  },
  "language_info": {
   "codemirror_mode": {
    "name": "ipython",
    "version": 3
   },
   "file_extension": ".py",
   "mimetype": "text/x-python",
   "name": "python",
   "nbconvert_exporter": "python",
   "pygments_lexer": "ipython3",
   "version": "3.11.13"
  }
 },
 "nbformat": 4,
 "nbformat_minor": 5
}
