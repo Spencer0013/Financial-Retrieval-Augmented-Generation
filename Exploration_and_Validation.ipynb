{
 "cells": [
  {
   "cell_type": "markdown",
   "id": "ddd07514",
   "metadata": {},
   "source": [
    "Hybrid search with Qdrant"
   ]
  },
  {
   "cell_type": "code",
   "execution_count": 1,
   "id": "cc0124a8",
   "metadata": {},
   "outputs": [
    {
     "name": "stdout",
     "output_type": "stream",
     "text": [
      "f1f6eaa4905fc5b6b2d84f6df920a9f57e0381e2c8787f54cdf7229d9e3d4fb7\n"
     ]
    },
    {
     "name": "stderr",
     "output_type": "stream",
     "text": [
      "docker: Error response from daemon: failed to set up container networking: driver failed programming external connectivity on endpoint funny_germain (d015b13f5eda531498042a2abfdb02b02230ccc9245fc6c8333791d090173e52): Bind for 0.0.0.0:6333 failed: port is already allocated\n",
      "\n",
      "Run 'docker run --help' for more information\n"
     ]
    }
   ],
   "source": [
    "!docker run -d -p 6333:6333 -p 6334:6334 \\\n",
    "   -v \"./qdrant_storage:/qdrant/storage:z\" \\\n",
    "   qdrant/qdrant"
   ]
  },
  {
   "cell_type": "code",
   "execution_count": 2,
   "id": "6f88e64f",
   "metadata": {},
   "outputs": [],
   "source": [
    "!python -m pip install -q \"qdrant-client[fastembed]>=1.14.2\""
   ]
  },
  {
   "cell_type": "code",
   "execution_count": 3,
   "id": "6dce06ee",
   "metadata": {},
   "outputs": [
    {
     "name": "stderr",
     "output_type": "stream",
     "text": [
      "c:\\Users\\ainao\\anaconda3\\envs\\finance-retrieve\\Lib\\site-packages\\tqdm\\auto.py:21: TqdmWarning: IProgress not found. Please update jupyter and ipywidgets. See https://ipywidgets.readthedocs.io/en/stable/user_install.html\n",
      "  from .autonotebook import tqdm as notebook_tqdm\n"
     ]
    }
   ],
   "source": [
    "from qdrant_client import QdrantClient\n",
    "from qdrant_client.http import models as models\n",
    "from fastembed import TextEmbedding, SparseTextEmbedding\n",
    "from tqdm import tqdm\n",
    "import os\n",
    "import json\n",
    "\n"
   ]
  },
  {
   "cell_type": "code",
   "execution_count": 4,
   "id": "a2e28eae",
   "metadata": {},
   "outputs": [
    {
     "data": {
      "text/plain": [
       "CollectionsResponse(collections=[])"
      ]
     },
     "execution_count": 4,
     "metadata": {},
     "output_type": "execute_result"
    }
   ],
   "source": [
    "client = QdrantClient(\"http://localhost:6333\")\n",
    "client.get_collections()"
   ]
  },
  {
   "cell_type": "markdown",
   "id": "33ff08a8",
   "metadata": {},
   "source": [
    "Ingestion"
   ]
  },
  {
   "cell_type": "markdown",
   "id": "8482f25e",
   "metadata": {},
   "source": [
    "load FIQA Corpus"
   ]
  },
  {
   "cell_type": "code",
   "execution_count": 5,
   "id": "91671acf",
   "metadata": {},
   "outputs": [],
   "source": [
    "def load_corpus(path):\n",
    "    corpus = {}\n",
    "    ext = os.path.splitext(path.lower())[1]\n",
    "    with open(path, \"r\", encoding=\"utf-8\") as f:\n",
    "        if ext == \".jsonl\":\n",
    "            raw = [json.loads(line) for line in f if line.strip()]\n",
    "        elif ext == \".json\":\n",
    "            raw = json.load(f)\n",
    "        else:\n",
    "            raise ValueError(f\"Unsupported file extension: {ext}\")\n",
    "\n",
    "    if isinstance(raw, dict):   # already keyed by doc_id\n",
    "        for k, v in raw.items():\n",
    "            corpus[str(k)] = {\n",
    "                \"title\": v.get(\"title\", \"\"),\n",
    "                \"text\": v.get(\"text\", \"\"),\n",
    "                \"metadata\": v.get(\"metadata\", {}) or {},\n",
    "            }\n",
    "    else:  # list of objects with _id\n",
    "        for obj in raw:\n",
    "            did = str(obj[\"_id\"])\n",
    "            corpus[did] = {\n",
    "                \"title\": obj.get(\"title\", \"\"),\n",
    "                \"text\": obj.get(\"text\", \"\"),\n",
    "                \"metadata\": obj.get(\"metadata\", {}) or {},\n",
    "            }\n",
    "    return corpus"
   ]
  },
  {
   "cell_type": "markdown",
   "id": "49708843",
   "metadata": {},
   "source": [
    "Load Fiqa Queries"
   ]
  },
  {
   "cell_type": "code",
   "execution_count": 6,
   "id": "00ddb7d9",
   "metadata": {},
   "outputs": [],
   "source": [
    "def load_queries(path):\n",
    "    queries = {}\n",
    "    ext = os.path.splitext(path.lower())[1]\n",
    "    with open(path, \"r\", encoding=\"utf-8\") as f:\n",
    "        if ext == \".jsonl\":\n",
    "            raw = [json.loads(line) for line in f if line.strip()]\n",
    "        elif ext == \".json\":\n",
    "            raw = json.load(f)\n",
    "        else:\n",
    "            raise ValueError(f\"Unsupported file extension: {ext}\")\n",
    "\n",
    "    if isinstance(raw, dict):\n",
    "        for k, v in raw.items():\n",
    "            if isinstance(v, str):\n",
    "                queries[str(k)] = v\n",
    "            else:\n",
    "                queries[str(k)] = v.get(\"text\", \"\")\n",
    "    else:\n",
    "        for obj in raw:\n",
    "            qid = str(obj[\"_id\"])\n",
    "            queries[qid] = obj.get(\"text\", \"\")\n",
    "    return queries"
   ]
  },
  {
   "cell_type": "code",
   "execution_count": 7,
   "id": "a6cedf58",
   "metadata": {},
   "outputs": [],
   "source": [
    "corpus = load_corpus(\"data/corpus.json\")\n",
    "queries = load_queries(\"data/queries.json\")"
   ]
  },
  {
   "cell_type": "markdown",
   "id": "42a4ced1",
   "metadata": {},
   "source": [
    "Load Qrels"
   ]
  },
  {
   "cell_type": "code",
   "execution_count": 8,
   "id": "bb84cbb7",
   "metadata": {},
   "outputs": [],
   "source": [
    "def load_qrels_tsv(path):\n",
    "    df = pd.read_csv(path, sep=\"\\t\", dtype=str, header=0)\n",
    "    cols = {c.lower().strip(): c for c in df.columns}\n",
    "\n",
    "    def pick(*cands):\n",
    "        for c in cands:\n",
    "            if c in cols:\n",
    "                return cols[c]\n",
    "        raise ValueError(f\"Missing columns in {path}\")\n",
    "\n",
    "    qcol = pick(\"query-id\", \"qid\", \"query_id\")\n",
    "    dcol = pick(\"corpus-id\", \"docid\", \"doc-id\", \"doc_id\")\n",
    "    scol = pick(\"score\", \"rel\", \"relevance\")\n",
    "\n",
    "    df[scol] = df[scol].astype(int)\n",
    "\n",
    "    qrels = {}\n",
    "    for _, row in df.iterrows():\n",
    "        qid = str(row[qcol])\n",
    "        did = str(row[dcol])\n",
    "        score = int(row[scol])\n",
    "        qrels.setdefault(qid, {})[did] = score\n",
    "    return qrels"
   ]
  },
  {
   "cell_type": "code",
   "execution_count": 9,
   "id": "630934e2",
   "metadata": {},
   "outputs": [],
   "source": [
    "import pandas as pd"
   ]
  },
  {
   "cell_type": "code",
   "execution_count": 10,
   "id": "3f9ae9ad",
   "metadata": {},
   "outputs": [],
   "source": [
    "qrels_train = load_qrels_tsv(\"fiqa/qrels/train.tsv\")\n",
    "qrels_dev = load_qrels_tsv(\"fiqa/qrels/dev.tsv\")\n",
    "qrels_test = load_qrels_tsv(\"fiqa/qrels/test.tsv\")"
   ]
  },
  {
   "cell_type": "markdown",
   "id": "b7de78a0",
   "metadata": {},
   "source": [
    "Merge all qrels in one File"
   ]
  },
  {
   "cell_type": "code",
   "execution_count": 11,
   "id": "3906c217",
   "metadata": {},
   "outputs": [],
   "source": [
    "def merge_qrels(*splits):\n",
    "    merged = {}\n",
    "    for qrels in splits:\n",
    "        for qid, docs in qrels.items():\n",
    "            dst = merged.setdefault(qid, {})\n",
    "            for did, sc in docs.items():\n",
    "                dst[did] = max(sc, dst.get(did, 0))\n",
    "    return merged\n",
    "\n",
    "qrels_all = merge_qrels(qrels_train, qrels_dev, qrels_test)\n"
   ]
  },
  {
   "cell_type": "code",
   "execution_count": 12,
   "id": "98d91a68",
   "metadata": {},
   "outputs": [],
   "source": [
    "import json\n",
    "import random\n",
    "\n",
    "with open(\"data/corpus.json\", \"r\", encoding=\"utf-8\") as f:\n",
    "    docs = json.load(f)  "
   ]
  },
  {
   "cell_type": "code",
   "execution_count": 13,
   "id": "c54d36f1",
   "metadata": {},
   "outputs": [
    {
     "data": {
      "text/plain": [
       "57638"
      ]
     },
     "execution_count": 13,
     "metadata": {},
     "output_type": "execute_result"
    }
   ],
   "source": [
    "len(docs)"
   ]
  },
  {
   "cell_type": "code",
   "execution_count": 14,
   "id": "29d8292d",
   "metadata": {},
   "outputs": [],
   "source": [
    "def load_qrels_tsv(path):\n",
    "    df = pd.read_csv(path, sep=\"\\t\", dtype=str, header=0)\n",
    "    cols = {c.lower().strip(): c for c in df.columns}\n",
    "\n",
    "    def pick(*cands):\n",
    "        for c in cands:\n",
    "            if c in cols:\n",
    "                return cols[c]\n",
    "        raise ValueError(f\"Missing columns in {path}\")\n",
    "\n",
    "    qcol = pick(\"query-id\", \"qid\", \"query_id\")\n",
    "    dcol = pick(\"corpus-id\", \"docid\", \"doc-id\", \"doc_id\")\n",
    "    scol = pick(\"score\", \"rel\", \"relevance\")\n",
    "\n",
    "    df[scol] = df[scol].astype(int)\n",
    "\n",
    "    qrels = {}\n",
    "    for _, row in df.iterrows():\n",
    "        qid = str(row[qcol])\n",
    "        did = str(row[dcol])\n",
    "        score = int(row[scol])\n",
    "        qrels.setdefault(qid, {})[did] = score\n",
    "    return qrels"
   ]
  },
  {
   "cell_type": "code",
   "execution_count": 15,
   "id": "669fabd4",
   "metadata": {},
   "outputs": [],
   "source": [
    "qrels_df = pd.read_csv(\"data/qrels_all.csv\")"
   ]
  },
  {
   "cell_type": "markdown",
   "id": "5a9113ab",
   "metadata": {},
   "source": [
    "Embed Corpus Once"
   ]
  },
  {
   "cell_type": "code",
   "execution_count": 16,
   "id": "183ec149",
   "metadata": {},
   "outputs": [],
   "source": [
    "from fastembed import TextEmbedding\n",
    "import math\n",
    "import os\n",
    "\n",
    "model = os.getenv(\"EMBED_MODEL\", \"BAAI/bge-small-en-v1.5\")\n",
    "embedder = TextEmbedding(model_name=model)\n",
    "\n",
    "def bge_doc(text: str) -> str:\n",
    "    return f\"Represent this sentence for retrieval: {text}\"\n",
    "\n",
    "def l2(v):\n",
    "    n = math.sqrt(sum(x*x for x in v)) or 1.0\n",
    "    return [float(x/n) for x in (v.tolist() if hasattr(v, \"tolist\") else list(v))]\n",
    "\n",
    "BATCH_EMBED = 4096\n",
    "dense_vecs = []\n",
    "\n",
    "for i in range(0, len(docs), BATCH_EMBED):\n",
    "    batch_docs = docs[i:i+BATCH_EMBED]\n",
    "    batch_texts = [bge_doc(d.get(\"text\", \"\")) for d in batch_docs]\n",
    "\n",
    "    for vec in embedder.embed(batch_texts):\n",
    "        dense_vecs.append(l2(vec))\n",
    "\n",
    "DENSE_DIM = len(dense_vecs[0])  \n"
   ]
  },
  {
   "cell_type": "markdown",
   "id": "5fa25aac",
   "metadata": {},
   "source": [
    "Create Collection"
   ]
  },
  {
   "cell_type": "code",
   "execution_count": 17,
   "id": "afdcae49",
   "metadata": {},
   "outputs": [
    {
     "name": "stderr",
     "output_type": "stream",
     "text": [
      "C:\\Users\\ainao\\AppData\\Local\\Temp\\ipykernel_30540\\3603761152.py:11: DeprecationWarning: `recreate_collection` method is deprecated and will be removed in the future. Use `collection_exists` to check collection existence and `create_collection` instead.\n",
      "  client.recreate_collection(\n"
     ]
    },
    {
     "data": {
      "text/plain": [
       "True"
      ]
     },
     "execution_count": 17,
     "metadata": {},
     "output_type": "execute_result"
    }
   ],
   "source": [
    "from qdrant_client import models\n",
    "import uuid\n",
    "\n",
    "\n",
    "client.delete_collection(collection_name=\"fiqa-hybrid\")\n",
    "\n",
    "\n",
    "assert len(dense_vecs) > 0\n",
    "DENSE_DIM = len(dense_vecs[0])  \n",
    "\n",
    "client.recreate_collection(\n",
    "    collection_name=\"fiqa-hybrid\",\n",
    "    vectors_config={\n",
    "        \"dense\": models.VectorParams(size=DENSE_DIM, distance=models.Distance.COSINE),\n",
    "    },\n",
    "    sparse_vectors_config={\n",
    "        \"bm25\": models.SparseVectorParams(\n",
    "            index=models.SparseIndexParams(on_disk=True),\n",
    "            modifier=models.Modifier.IDF,\n",
    "        )\n",
    "    },\n",
    ")\n",
    "\n"
   ]
  },
  {
   "cell_type": "markdown",
   "id": "db864e1a",
   "metadata": {},
   "source": [
    "Upsert in Batch to qdrant"
   ]
  },
  {
   "cell_type": "code",
   "execution_count": 18,
   "id": "ab4c3863",
   "metadata": {},
   "outputs": [],
   "source": [
    "from qdrant_client import models\n",
    "import uuid as _uuid\n",
    "import math\n",
    "\n",
    "def l2(v):\n",
    "    if hasattr(v, \"tolist\"): v = v.tolist()\n",
    "    n = math.sqrt(sum(x*x for x in v)) or 1.0\n",
    "    return [float(x/n) for x in v]\n",
    "\n",
    "def make_point_id(corpus_id_raw):\n",
    "    s = str(corpus_id_raw).strip()\n",
    "    if not s:\n",
    "        return None\n",
    "    \n",
    "    if s.isdigit():\n",
    "        return int(s)\n",
    "    \n",
    "    try:\n",
    "        return str(_uuid.UUID(s))\n",
    "    except Exception:\n",
    "\n",
    "        return str(_uuid.uuid5(_uuid.NAMESPACE_URL, s))\n",
    "\n",
    "BATCH_UPSERT = 512\n",
    "points = []\n",
    "\n",
    "for d, vec in zip(docs, dense_vecs):\n",
    "    text = (d.get(\"text\") or \"\").strip()\n",
    "    if not text:\n",
    "        continue\n",
    "\n",
    "    corpus_id_raw = d.get(\"_id\") \n",
    "    point_id = make_point_id(corpus_id_raw)\n",
    "    if point_id is None:\n",
    "        continue  \n",
    "\n",
    "    dense_list = l2(vec)\n",
    "\n",
    "    points.append(\n",
    "        models.PointStruct(\n",
    "            id=point_id,                       \n",
    "            vector={\n",
    "                \"dense\": dense_list,\n",
    "                \"bm25\": models.Document(       \n",
    "                    text=text,\n",
    "                    model=\"qdrant/bm25\",\n",
    "                ),\n",
    "            },\n",
    "            payload={\n",
    "                \"text\": text,\n",
    "                \"id\": str(corpus_id_raw),      \n",
    "            },\n",
    "        )\n",
    "    )\n",
    "\n",
    "    if len(points) >= BATCH_UPSERT:\n",
    "        client.upsert(collection_name=\"fiqa-hybrid\", points=points, wait=True)\n",
    "        points = []\n",
    "\n",
    "if points:\n",
    "    client.upsert(collection_name=\"fiqa-hybrid\", points=points, wait=True)\n",
    "\n"
   ]
  },
  {
   "cell_type": "markdown",
   "id": "77ef0b35",
   "metadata": {},
   "source": [
    "Sparse Search with BM25"
   ]
  },
  {
   "cell_type": "code",
   "execution_count": 19,
   "id": "9d5d55c7",
   "metadata": {},
   "outputs": [],
   "source": [
    "def search_sparse(query: str, k: int = 10) -> list[models.ScoredPoint]:\n",
    "    search_results = client.query_points(\n",
    "        collection_name=\"fiqa-hybrid\",\n",
    "        query=models.Document(\n",
    "            text=query,\n",
    "            model=\"qdrant/bm25\",\n",
    "        ),\n",
    "        using=\"bm25\",\n",
    "        limit=k,\n",
    "        with_payload=True,\n",
    "    )\n",
    "\n",
    "    return search_results.points"
   ]
  },
  {
   "cell_type": "markdown",
   "id": "d4fb0e69",
   "metadata": {},
   "source": [
    "Example"
   ]
  },
  {
   "cell_type": "code",
   "execution_count": 20,
   "id": "7fe14ff6",
   "metadata": {},
   "outputs": [
    {
     "name": "stdout",
     "output_type": "stream",
     "text": [
      "You don't have to provide your personal home address per se. You can provide a legal address where Companies house can send across paper correspondence to. Companies house legally requires an address because directors are liable to their shareholders(even if you are the only shareholder) and to stop them from disappearing just like that with shareholder's money. Moreover your birth date will also be visible on websites which provide comapnies information. You can ask these websites to stop sharing your personal information. Every company must have a registered office within the UK which is the official legal address of the company. It must be a physical address (i.e. not a PO Box without a physical location) as Companies House will use this address to send correspondence to. To incorporate a private limited company you need at least one director, who has to be over 16 years of age. You may also have a secretary, but this is optional. The information you will need to supply for each officer includes: You may also have officers that are companies or firms, and for these you will need to supply the company or firm name, its registered office address, details of the legal form of the company, where it is registered and if applicable its registration number.\n"
     ]
    }
   ],
   "source": [
    "result = search_sparse(\"How can I register a UK business without providing a business address?\", k=5)\n",
    "print(result[0].payload[\"text\"])"
   ]
  },
  {
   "cell_type": "markdown",
   "id": "6751bbe2",
   "metadata": {},
   "source": [
    "Dense Search with Bge"
   ]
  },
  {
   "cell_type": "code",
   "execution_count": 21,
   "id": "82d8f3bd",
   "metadata": {},
   "outputs": [],
   "source": [
    "from qdrant_client import models\n",
    "import math\n",
    "\n",
    "# match indexing: use the DOC prompt for queries\n",
    "def embed_query(text: str):\n",
    "    s = f\"Represent this sentence for retrieval: {text}\"\n",
    "    v = list(embedder.embed([s]))[0]\n",
    "    if isinstance(v, dict) and \"embedding\" in v:\n",
    "        v = v[\"embedding\"]\n",
    "    v = list(v)\n",
    "    n = math.sqrt(sum(x*x for x in v)) or 1.0\n",
    "    return [x / n for x in v]\n",
    "\n",
    "def search_dense(text: str, k: int = 10, exact: bool = True):\n",
    "    qvec = embed_query(text)\n",
    "    return client.query_points(\n",
    "        collection_name=\"fiqa-hybrid\",\n",
    "        query=qvec,\n",
    "        using=\"dense\",\n",
    "        with_payload=True,\n",
    "        limit=k,\n",
    "        search_params=models.SearchParams(exact=exact) \n",
    "    ).points\n"
   ]
  },
  {
   "cell_type": "markdown",
   "id": "9aa32b4c",
   "metadata": {},
   "source": [
    "Example"
   ]
  },
  {
   "cell_type": "code",
   "execution_count": 22,
   "id": "9db2ebc7",
   "metadata": {},
   "outputs": [
    {
     "name": "stdout",
     "output_type": "stream",
     "text": [
      "Compound interest means that the interest in each time period is calculated taking into account previously earned interest and not only the initial sum. Thus, if you had $1000 and invested it so that you'd earn 5% each year, than if you would withdraw the earnings each year you in 30 years you would earn 0.05*30*1000 = $1500, so summarily you'd have $2500, or 150% profit. However, if you left all the money to earn interest - including the interest money - then at the end of 30 years you'd have $4321 - or 330% profit.  This is why compound interest is so important - the interest on the earned interest makes money grow significantly faster. On the other hand, the same happens if you owe money - the interest on the money owed is added to the initial sum and so the whole sum owed grows quicker.  Compound interest is also important when calculating interest by time periods. For example, if you are told the loan accumulates 1% interest monthly, you may think it's 12% yearly. However, it is not so, since monthly interest is compounded - i.e., in February the addition not only February's 1% but also 1% on 1% from January, etc. - the real interest is 12.68% yearly. Thus, it is always useful to know how interest is compounded - both for loans and investments - daily, monthly, yearly, etc.\n"
     ]
    }
   ],
   "source": [
    "result = search_dense(\"what is compound interest\",k=5)\n",
    "print(result[0].payload[\"text\"])"
   ]
  },
  {
   "cell_type": "markdown",
   "id": "c146867b",
   "metadata": {},
   "source": [
    "Hybrid(Reciprocal Rank Fusion of  both Lists)"
   ]
  },
  {
   "cell_type": "code",
   "execution_count": 23,
   "id": "e9714937",
   "metadata": {},
   "outputs": [],
   "source": [
    "def rrf_search(query: str, limit: int = 10, dense_k: int = 200, sparse_k: int = 400):\n",
    "    qvec = embed_query(query)\n",
    "    res = client.query_points(\n",
    "        collection_name=\"fiqa-hybrid\",\n",
    "        prefetch=[\n",
    "            models.Prefetch(query=qvec, using=\"dense\", limit=dense_k),\n",
    "            models.Prefetch(query=models.Document(text=query, model=\"qdrant/bm25\"),\n",
    "                            using=\"bm25\", limit=sparse_k),\n",
    "        ],\n",
    "        query=models.FusionQuery(fusion=models.Fusion.RRF),\n",
    "        with_payload=True,\n",
    "        limit=limit,  # final cutoff after fusion\n",
    "    )\n",
    "    return res.points"
   ]
  },
  {
   "cell_type": "markdown",
   "id": "e2e131cb",
   "metadata": {},
   "source": [
    "Example"
   ]
  },
  {
   "cell_type": "code",
   "execution_count": 24,
   "id": "5182bde7",
   "metadata": {},
   "outputs": [
    {
     "name": "stdout",
     "output_type": "stream",
     "text": [
      "Compound interest means that the interest in each time period is calculated taking into account previously earned interest and not only the initial sum. Thus, if you had $1000 and invested it so that you'd earn 5% each year, than if you would withdraw the earnings each year you in 30 years you would earn 0.05*30*1000 = $1500, so summarily you'd have $2500, or 150% profit. However, if you left all the money to earn interest - including the interest money - then at the end of 30 years you'd have $4321 - or 330% profit.  This is why compound interest is so important - the interest on the earned interest makes money grow significantly faster. On the other hand, the same happens if you owe money - the interest on the money owed is added to the initial sum and so the whole sum owed grows quicker.  Compound interest is also important when calculating interest by time periods. For example, if you are told the loan accumulates 1% interest monthly, you may think it's 12% yearly. However, it is not so, since monthly interest is compounded - i.e., in February the addition not only February's 1% but also 1% on 1% from January, etc. - the real interest is 12.68% yearly. Thus, it is always useful to know how interest is compounded - both for loans and investments - daily, monthly, yearly, etc.\n"
     ]
    }
   ],
   "source": [
    "result = rrf_search(\"what is compound interest\",limit=5)\n",
    "print(result[0].payload[\"text\"])"
   ]
  },
  {
   "cell_type": "markdown",
   "id": "8a3f0d2e",
   "metadata": {},
   "source": [
    "Retrieval Evaluation"
   ]
  },
  {
   "cell_type": "code",
   "execution_count": 25,
   "id": "8505d2e0",
   "metadata": {},
   "outputs": [],
   "source": [
    "q = pd.DataFrame(list(queries.items()), columns=[\"id\", \"query\"])"
   ]
  },
  {
   "cell_type": "code",
   "execution_count": 26,
   "id": "818fd730",
   "metadata": {},
   "outputs": [],
   "source": [
    "queries = q.loc[:,[\"id\",\"query\"]].to_dict(orient=\"records\")"
   ]
  },
  {
   "cell_type": "markdown",
   "id": "1aa126ee",
   "metadata": {},
   "source": [
    "Retrieval Evaluation Functions"
   ]
  },
  {
   "cell_type": "code",
   "execution_count": 27,
   "id": "5d34729e",
   "metadata": {},
   "outputs": [],
   "source": [
    "def hit_rate(relevance_total):\n",
    "    if not relevance_total:\n",
    "        return 0.0\n",
    "    cnt = 0\n",
    "    for line in relevance_total:\n",
    "        # hit if there's at least one relevant item anywhere\n",
    "        found = False\n",
    "        for rel in line:\n",
    "            if rel is True:\n",
    "                found = True\n",
    "                break\n",
    "        if found:\n",
    "            cnt = cnt + 1\n",
    "    return cnt / len(relevance_total)\n",
    "\n",
    "\n",
    "def mrr(relevance_total):\n",
    "    # Mean Reciprocal Rank using ONLY the first relevant item per query\n",
    "    if not relevance_total:\n",
    "        return 0.0\n",
    "    total_score = 0.0\n",
    "    for line in relevance_total:\n",
    "        rr = 0.0\n",
    "        for rank in range(len(line)):\n",
    "            if line[rank] is True:\n",
    "                rr = 1.0 / (rank + 1)\n",
    "                break  # only the first relevant\n",
    "        total_score = total_score + rr\n",
    "    return total_score / len(relevance_total)\n",
    "\n",
    "\n",
    "def precision_at_k(relevance_total, k=None):\n",
    "    if not relevance_total:\n",
    "        return 0.0\n",
    "    total = 0.0\n",
    "    for line in relevance_total:\n",
    "        if not line:\n",
    "            continue\n",
    "        kk = len(line) if k is None else min(k, len(line))\n",
    "        hits = 0\n",
    "        for i in range(kk):\n",
    "            if line[i] is True:\n",
    "                hits = hits + 1\n",
    "        # precision = hits / retrieved (kk)\n",
    "        total = total + (hits / kk if kk > 0 else 0.0)\n",
    "    return total / len(relevance_total)\n",
    "\n",
    "\n",
    "def recall_at_k(relevance_total, k=None):\n",
    "    if not relevance_total:\n",
    "        return 0.0\n",
    "    total = 0.0\n",
    "    for line in relevance_total:\n",
    "        # total relevant in the list\n",
    "        total_rel = 0\n",
    "        for r in line:\n",
    "            if r is True:\n",
    "                total_rel = total_rel + 1\n",
    "        if total_rel == 0:\n",
    "            # by convention, if there are no relevant items, recall contributes 0\n",
    "            continue\n",
    "        kk = len(line) if k is None else min(k, len(line))\n",
    "        hits_at_k = 0\n",
    "        for i in range(kk):\n",
    "            if line[i] is True:\n",
    "                hits_at_k = hits_at_k + 1\n",
    "        total = total + (hits_at_k / total_rel)\n",
    "    return total / len(relevance_total)\n",
    "\n",
    "\n",
    "def average_precision_at_k(relevance_total, k=None):\n",
    "    # Computes AP per query and returns the mean (MAP@k when aggregated)\n",
    "    if not relevance_total:\n",
    "        return 0.0\n",
    "    total_map = 0.0\n",
    "    for line in relevance_total:\n",
    "        # count total relevant (denominator)\n",
    "        total_rel = 0\n",
    "        for r in line:\n",
    "            if r is True:\n",
    "                total_rel = total_rel + 1\n",
    "        if total_rel == 0:\n",
    "            # if no relevant items exist, AP is 0 for that query\n",
    "            continue\n",
    "        kk = len(line) if k is None else min(k, len(line))\n",
    "        ap_sum = 0.0\n",
    "        hits = 0\n",
    "        for i in range(kk):\n",
    "            if line[i] is True:\n",
    "                hits = hits + 1\n",
    "                # precision at this rank (i+1)\n",
    "                prec = hits / (i + 1)\n",
    "                ap_sum = ap_sum + prec\n",
    "        total_map = total_map + (ap_sum / total_rel if total_rel > 0 else 0.0)\n",
    "    return total_map / len(relevance_total)\n",
    "\n",
    "\n",
    "def map_at_k(relevance_total, k=None):\n",
    "    # Alias around average_precision_at_k for clarity\n",
    "    return average_precision_at_k(relevance_total, k=k)\n",
    "\n",
    "\n",
    "def dcg_at_k(relevance_total, k=None):\n",
    "    # Average DCG across queries (binary relevance)\n",
    "    if not relevance_total:\n",
    "        return 0.0\n",
    "    import math\n",
    "    total = 0.0\n",
    "    for line in relevance_total:\n",
    "        kk = len(line) if k is None else min(k, len(line))\n",
    "        dcg = 0.0\n",
    "        for i in range(kk):\n",
    "            rel = 1.0 if line[i] is True else 0.0\n",
    "            denom = math.log2(i + 2)  # log2(rank + 1)\n",
    "            dcg = dcg + (rel / denom)\n",
    "        total = total + dcg\n",
    "    return total / len(relevance_total)\n",
    "\n",
    "\n",
    "def ndcg_at_k(relevance_total, k=None):\n",
    "    # Average NDCG across queries (binary relevance)\n",
    "    if not relevance_total:\n",
    "        return 0.0\n",
    "    import math\n",
    "    total = 0.0\n",
    "    for line in relevance_total:\n",
    "        kk = len(line) if k is None else min(k, len(line))\n",
    "        # DCG\n",
    "        dcg = 0.0\n",
    "        for i in range(kk):\n",
    "            rel = 1.0 if line[i] is True else 0.0\n",
    "            dcg = dcg + (rel / math.log2(i + 2))\n",
    "        # IDCG: ideal ordering puts all True first\n",
    "        # count how many relevant in the top k (at most kk)\n",
    "        total_rel = 0\n",
    "        for r in line:\n",
    "            if r is True:\n",
    "                total_rel = total_rel + 1\n",
    "        ideal_hits = min(total_rel, kk)\n",
    "        idcg = 0.0\n",
    "        for i in range(ideal_hits):\n",
    "            idcg = idcg + (1.0 / math.log2(i + 2))\n",
    "        ndcg = 0.0 if idcg == 0.0 else (dcg / idcg)\n",
    "        total = total + ndcg\n",
    "    return total / len(relevance_total)\n",
    "\n",
    "\n",
    "def f1_at_k(relevance_total, k=None):\n",
    "    # Harmonic mean of precision@k and recall@k, averaged over queries\n",
    "    if not relevance_total:\n",
    "        return 0.0\n",
    "    total_f1 = 0.0\n",
    "    for line in relevance_total:\n",
    "        # precision@k\n",
    "        kk = len(line) if k is None else min(k, len(line))\n",
    "        hits_at_k = 0\n",
    "        for i in range(kk):\n",
    "            if line[i] is True:\n",
    "                hits_at_k = hits_at_k + 1\n",
    "        prec = (hits_at_k / kk) if kk > 0 else 0.0\n",
    "        # recall@k\n",
    "        total_rel = 0\n",
    "        for r in line:\n",
    "            if r is True:\n",
    "                total_rel = total_rel + 1\n",
    "        rec = (hits_at_k / total_rel) if total_rel > 0 else 0.0\n",
    "        # F1\n",
    "        if prec + rec == 0.0:\n",
    "            f1 = 0.0\n",
    "        else:\n",
    "            f1 = 2 * prec * rec / (prec + rec)\n",
    "        total_f1 = total_f1 + f1\n",
    "    return total_f1 / len(relevance_total)\n"
   ]
  },
  {
   "cell_type": "code",
   "execution_count": 28,
   "id": "7e0ab08c",
   "metadata": {},
   "outputs": [],
   "source": [
    "from tqdm.auto import tqdm\n",
    "\n",
    "# Normalize a value to a string \n",
    "def _to_str(x):\n",
    "    return None if x is None else str(x)\n",
    "\n",
    "# Extract a stable document ID from a result item (prefers payload[\"id\"], with safe fallbacks).\n",
    "def _payload_id(p):\n",
    "    payload = getattr(p, \"payload\", None)\n",
    "    if payload is None and isinstance(p, dict):\n",
    "        payload = p.get(\"payload\")\n",
    "    if isinstance(payload, dict) and \"id\" in payload:\n",
    "        return _to_str(payload[\"id\"])\n",
    "    # fallbacks (usually not needed)\n",
    "    if hasattr(p, \"id\"): return _to_str(getattr(p, \"id\"))\n",
    "    if isinstance(p, dict) and \"id\" in p: return _to_str(p[\"id\"])\n",
    "    return None\n",
    "\n",
    "# Return the set of relevant (positive) doc IDs for a given query ID from qrels.\n",
    "def _gold_ids_for(qid, qrels_dev):\n",
    "    rels = qrels_dev.get(str(qid), {})\n",
    "    return { _to_str(docid) for docid, rel in rels.items() if rel > 0 }\n",
    "\n",
    "# Evaluate retrieval at cutoff K using all modes (dense/sparse/rrf) and compute standard IR metrics.\n",
    "def evaluate_fiqa(queries, qrels_dev, K, mode=\"dense\"):\n",
    "    \"\"\"\n",
    "    mode: \"dense\" | \"sparse\" | \"rrf\"\n",
    "    Uses the same K for retrieval and metrics.\n",
    "    \"\"\"\n",
    "    if mode == \"dense\":\n",
    "        search = lambda text: search_dense(text, k=K)\n",
    "    elif mode == \"sparse\":\n",
    "        search = lambda text: search_sparse(text, k=K)\n",
    "    elif mode == \"rrf\":\n",
    "        search = lambda text: rrf_search(text, limit=K)\n",
    "    else:\n",
    "        raise ValueError(\"mode must be 'dense', 'sparse', or 'rrf'\")\n",
    "\n",
    "    relevance_total = []\n",
    "    total_q = 0\n",
    "    missing_gold = 0\n",
    "\n",
    "    for q in tqdm(queries, desc=f\"Evaluating ({mode}@{K})\"):\n",
    "        qid = q[\"id\"]\n",
    "        gold = _gold_ids_for(qid, qrels_dev)\n",
    "        if not gold:\n",
    "            missing_gold += 1\n",
    "        total_q += 1\n",
    "\n",
    "        results = search(q[\"query\"])\n",
    "        line = []\n",
    "        for p in results:\n",
    "            pid = _payload_id(p)\n",
    "            line.append(pid in gold)\n",
    "        relevance_total.append(line)\n",
    "\n",
    "    return {\n",
    "        \"k\": K,\n",
    "        \"mode\": mode,\n",
    "        \"hit_rate\": hit_rate(relevance_total),\n",
    "        \"mrr\": mrr(relevance_total),\n",
    "        \"precision@k\": precision_at_k(relevance_total, k=K),\n",
    "        \"recall@k\": recall_at_k(relevance_total, k=K),\n",
    "        \"map@k\": map_at_k(relevance_total, k=K),\n",
    "        \"ndcg@k\": ndcg_at_k(relevance_total, k=K),\n",
    "        \"f1@k\": f1_at_k(relevance_total, k=K),\n",
    "        \"queries\": total_q,\n",
    "        \"queries_without_gold\": missing_gold,\n",
    "    }\n",
    "\n",
    "\n",
    "K = 10 \n",
    "\n"
   ]
  },
  {
   "cell_type": "code",
   "execution_count": 29,
   "id": "ec9a5aa0",
   "metadata": {},
   "outputs": [
    {
     "name": "stderr",
     "output_type": "stream",
     "text": [
      "Evaluating (dense@10): 100%|██████████| 500/500 [00:34<00:00, 14.70it/s]\n",
      "Evaluating (sparse@10): 100%|██████████| 500/500 [00:14<00:00, 34.61it/s]\n",
      "Evaluating (rrf@10): 100%|██████████| 500/500 [00:35<00:00, 14.14it/s]"
     ]
    },
    {
     "name": "stdout",
     "output_type": "stream",
     "text": [
      "DENSE : {'k': 10, 'mode': 'dense', 'hit_rate': 0.646, 'mrr': 0.45880634920634905, 'precision@k': 0.1018000000000004, 'recall@k': 0.646, 'map@k': 0.4292107709750567, 'ndcg@k': 0.49136209908104633, 'f1@k': 0.16872104039751132, 'queries': 500, 'queries_without_gold': 0}\n",
      "SPARSE: {'k': 10, 'mode': 'sparse', 'hit_rate': 0.482, 'mrr': 0.31720873015873025, 'precision@k': 0.06400000000000015, 'recall@k': 0.482, 'map@k': 0.30303934240362806, 'ndcg@k': 0.3502665001756677, 'f1@k': 0.10975428493075545, 'queries': 500, 'queries_without_gold': 0}\n",
      "RRF   : {'k': 10, 'mode': 'rrf', 'hit_rate': 0.64, 'mrr': 0.4539626984126985, 'precision@k': 0.09680000000000043, 'recall@k': 0.64, 'map@k': 0.42828373015872995, 'ndcg@k': 0.488298725483918, 'f1@k': 0.1620530025530028, 'queries': 500, 'queries_without_gold': 0}\n"
     ]
    },
    {
     "name": "stderr",
     "output_type": "stream",
     "text": [
      "\n"
     ]
    }
   ],
   "source": [
    "# keep only queries that exist in qrels_dev \n",
    "queries_with_gold = [\n",
    "    q for q in queries\n",
    "    if str(q[\"id\"]) in qrels_dev and any(v > 0 for v in qrels_dev[str(q[\"id\"])].values())\n",
    "]\n",
    "\n",
    "K = 10\n",
    "dense_scores  = evaluate_fiqa(queries_with_gold, qrels_dev, K, mode=\"dense\")\n",
    "sparse_scores = evaluate_fiqa(queries_with_gold, qrels_dev, K, mode=\"sparse\")\n",
    "rrf_scores    = evaluate_fiqa(queries_with_gold, qrels_dev, K, mode=\"rrf\")\n",
    "\n",
    "print(\"DENSE :\", dense_scores)\n",
    "print(\"SPARSE:\", sparse_scores)\n",
    "print(\"RRF   :\", rrf_scores)\n"
   ]
  },
  {
   "cell_type": "code",
   "execution_count": 30,
   "id": "1c16a92e",
   "metadata": {},
   "outputs": [],
   "source": [
    "results = pd.DataFrame({\"dense_scores\": dense_scores,\n",
    "                        \"sparse_scores\": sparse_scores,\n",
    "                        \"rrf_scores\": rrf_scores})"
   ]
  },
  {
   "cell_type": "code",
   "execution_count": 31,
   "id": "0b66e5b6",
   "metadata": {},
   "outputs": [
    {
     "data": {
      "text/html": [
       "<div>\n",
       "<style scoped>\n",
       "    .dataframe tbody tr th:only-of-type {\n",
       "        vertical-align: middle;\n",
       "    }\n",
       "\n",
       "    .dataframe tbody tr th {\n",
       "        vertical-align: top;\n",
       "    }\n",
       "\n",
       "    .dataframe thead th {\n",
       "        text-align: right;\n",
       "    }\n",
       "</style>\n",
       "<table border=\"1\" class=\"dataframe\">\n",
       "  <thead>\n",
       "    <tr style=\"text-align: right;\">\n",
       "      <th></th>\n",
       "      <th>dense_scores</th>\n",
       "      <th>sparse_scores</th>\n",
       "      <th>rrf_scores</th>\n",
       "    </tr>\n",
       "  </thead>\n",
       "  <tbody>\n",
       "    <tr>\n",
       "      <th>k</th>\n",
       "      <td>10</td>\n",
       "      <td>10</td>\n",
       "      <td>10</td>\n",
       "    </tr>\n",
       "    <tr>\n",
       "      <th>mode</th>\n",
       "      <td>dense</td>\n",
       "      <td>sparse</td>\n",
       "      <td>rrf</td>\n",
       "    </tr>\n",
       "    <tr>\n",
       "      <th>hit_rate</th>\n",
       "      <td>0.646</td>\n",
       "      <td>0.482</td>\n",
       "      <td>0.64</td>\n",
       "    </tr>\n",
       "    <tr>\n",
       "      <th>mrr</th>\n",
       "      <td>0.458806</td>\n",
       "      <td>0.317209</td>\n",
       "      <td>0.453963</td>\n",
       "    </tr>\n",
       "    <tr>\n",
       "      <th>precision@k</th>\n",
       "      <td>0.1018</td>\n",
       "      <td>0.064</td>\n",
       "      <td>0.0968</td>\n",
       "    </tr>\n",
       "    <tr>\n",
       "      <th>recall@k</th>\n",
       "      <td>0.646</td>\n",
       "      <td>0.482</td>\n",
       "      <td>0.64</td>\n",
       "    </tr>\n",
       "    <tr>\n",
       "      <th>map@k</th>\n",
       "      <td>0.429211</td>\n",
       "      <td>0.303039</td>\n",
       "      <td>0.428284</td>\n",
       "    </tr>\n",
       "    <tr>\n",
       "      <th>ndcg@k</th>\n",
       "      <td>0.491362</td>\n",
       "      <td>0.350267</td>\n",
       "      <td>0.488299</td>\n",
       "    </tr>\n",
       "    <tr>\n",
       "      <th>f1@k</th>\n",
       "      <td>0.168721</td>\n",
       "      <td>0.109754</td>\n",
       "      <td>0.162053</td>\n",
       "    </tr>\n",
       "    <tr>\n",
       "      <th>queries</th>\n",
       "      <td>500</td>\n",
       "      <td>500</td>\n",
       "      <td>500</td>\n",
       "    </tr>\n",
       "    <tr>\n",
       "      <th>queries_without_gold</th>\n",
       "      <td>0</td>\n",
       "      <td>0</td>\n",
       "      <td>0</td>\n",
       "    </tr>\n",
       "  </tbody>\n",
       "</table>\n",
       "</div>"
      ],
      "text/plain": [
       "                     dense_scores sparse_scores rrf_scores\n",
       "k                              10            10         10\n",
       "mode                        dense        sparse        rrf\n",
       "hit_rate                    0.646         0.482       0.64\n",
       "mrr                      0.458806      0.317209   0.453963\n",
       "precision@k                0.1018         0.064     0.0968\n",
       "recall@k                    0.646         0.482       0.64\n",
       "map@k                    0.429211      0.303039   0.428284\n",
       "ndcg@k                   0.491362      0.350267   0.488299\n",
       "f1@k                     0.168721      0.109754   0.162053\n",
       "queries                       500           500        500\n",
       "queries_without_gold            0             0          0"
      ]
     },
     "execution_count": 31,
     "metadata": {},
     "output_type": "execute_result"
    }
   ],
   "source": [
    "results"
   ]
  },
  {
   "cell_type": "markdown",
   "id": "8dc8dace",
   "metadata": {},
   "source": [
    "RAG FLOW"
   ]
  },
  {
   "cell_type": "markdown",
   "id": "510ba3f7",
   "metadata": {},
   "source": [
    "Model"
   ]
  },
  {
   "cell_type": "code",
   "execution_count": 32,
   "id": "2da28413",
   "metadata": {},
   "outputs": [],
   "source": [
    "import os, torch, json, re\n",
    "from transformers import AutoTokenizer, AutoModelForCausalLM\n",
    "\n",
    "MODEL_ID = \"TinyLlama/TinyLlama-1.1B-Chat-v1.0\"\n",
    "DTYPE = torch.float32\n",
    "MAX_NEW_TOKENS = 200\n",
    "REPETITION_PENALTY = 1.10  # slight nudge to reduce loops\n",
    "\n",
    "os.environ.setdefault(\"TOKENIZERS_PARALLELISM\", \"false\")\n",
    "try:\n",
    "    torch.set_num_threads(min(8, os.cpu_count() or 4))\n",
    "    torch.set_num_interop_threads(2)\n",
    "except Exception:\n",
    "    pass\n",
    "\n",
    "tok = AutoTokenizer.from_pretrained(MODEL_ID, use_fast=True)\n",
    "model = AutoModelForCausalLM.from_pretrained(\n",
    "    MODEL_ID,\n",
    "    dtype=DTYPE,\n",
    "    low_cpu_mem_usage=True,\n",
    "    attn_implementation=\"eager\",\n",
    ")\n",
    "model.to(\"cpu\").eval()\n",
    "PAD_ID = tok.eos_token_id if tok.pad_token_id is None else tok.pad_token_id"
   ]
  },
  {
   "cell_type": "code",
   "execution_count": 33,
   "id": "4046dbf2",
   "metadata": {},
   "outputs": [],
   "source": [
    "def _encode_chat(messages):\n",
    "    \"\"\"\n",
    "    Use the model's chat template if available; otherwise fall back to a simple prompt.\n",
    "    \"\"\"\n",
    "    try:\n",
    "        return tok.apply_chat_template(messages, add_generation_prompt=True, return_tensors=\"pt\")\n",
    "    except Exception:\n",
    "        sys_txt = \"\\n\\n\".join(m[\"content\"] for m in messages if m[\"role\"] == \"system\")\n",
    "        usr_txt = \"\\n\\n\".join(m[\"content\"] for m in messages if m[\"role\"] == \"user\")\n",
    "        prompt = ((sys_txt + \"\\n\\n\") if sys_txt else \"\") + usr_txt\n",
    "        return tok(prompt, return_tensors=\"pt\").input_ids"
   ]
  },
  {
   "cell_type": "markdown",
   "id": "8d6ca1f6",
   "metadata": {},
   "source": [
    "Prompts"
   ]
  },
  {
   "cell_type": "code",
   "execution_count": 34,
   "id": "22f7cde3",
   "metadata": {},
   "outputs": [],
   "source": [
    "\n",
    "entry_template = \"{n}. [{doc_id}] {title}\\n{text}\"\n",
    "prompt_template = (\n",
    "    \"You are a helpful FIQA assistant. Answer clearly, cite facts from the context when useful, \"\n",
    "    \"and ignore irrelevant or noisy snippets.\\n\\n\"\n",
    "    \"Context:\\n{context}\\n\\n\"\n",
    "    \"Question: {question}\\n\"\n",
    "    \"Answer:\"\n",
    ")\n",
    "\n",
    "def search(query):\n",
    "    points = rrf_search(query, limit=10, dense_k=200, sparse_k=400)\n",
    "    docs = []\n",
    "    for p in (points or []):\n",
    "        payload = getattr(p, \"payload\", {}) or {}\n",
    "        # normalize payload keys expected by entry_template\n",
    "        text = (payload.get(\"text\") or payload.get(\"content\") or \"\").strip()\n",
    "        title = (payload.get(\"title\") or \"\").strip()\n",
    "        if not title:\n",
    "            # fall back to first sentence or simple default\n",
    "            first = re.split(r\"(?<=[.!?])\\s+\", text)[0] if text else \"\"\n",
    "            title = first or \"Untitled\"\n",
    "        doc_id = str(payload.get(\"doc_id\") or payload.get(\"id\") or getattr(p, \"id\", None) or \"\")\n",
    "        docs.append({\"n\": None, \"title\": title, \"text\": text, \"doc_id\": doc_id})\n",
    "    return docs\n"
   ]
  },
  {
   "cell_type": "code",
   "execution_count": 35,
   "id": "673927a9",
   "metadata": {},
   "outputs": [],
   "source": [
    "import re, unicodedata\n",
    "\n",
    "#  tiny sanitizer to avoid weird Unicode that can trigger loops \n",
    "def _clean(t: str) -> str:\n",
    "    if not t: return \"\"\n",
    "    t = unicodedata.normalize(\"NFKC\", str(t))\n",
    "    t = re.sub(r\"[\\x00-\\x08\\x0B\\x0C\\x0E-\\x1F]\", \" \", t)  \n",
    "    t = re.sub(r\"[ \\t]+\", \" \", t).strip()\n",
    "    return t\n",
    "\n",
    "# truncate a string to max_tokens with your tokenizer\n",
    "def _truncate_to_tokens(text: str, max_tokens: int) -> str:\n",
    "    if max_tokens <= 0: return \"\"\n",
    "    ids = tok.encode(text, add_special_tokens=False)\n",
    "    if len(ids) <= max_tokens:\n",
    "        return text\n",
    "    return tok.decode(ids[:max_tokens], skip_special_tokens=True)\n",
    "\n",
    "# prompt builder with token budget \n",
    "def build_prompt(query, search_results):\n",
    "    # model context and budget\n",
    "    ctx_max = int(getattr(model.config, \"max_position_embeddings\", 2048))\n",
    "    # leave room for generation + some margin\n",
    "    margin = 64\n",
    "    budget = max(256, ctx_max - int(MAX_NEW_TOKENS) - margin)\n",
    "\n",
    "\n",
    "    chunks = []\n",
    "    for i, raw in enumerate(search_results or [], 1):\n",
    "        p = raw if isinstance(raw, dict) else (getattr(raw, \"payload\", {}) or {})\n",
    "        title = _clean(p.get(\"title\") or \"\")\n",
    "        text  = _clean(p.get(\"text\") or p.get(\"content\") or \"\")\n",
    "        if not title:\n",
    "            first = re.split(r\"(?<=[.!?])\\s+\", text)[0] if text else \"\"\n",
    "            title = first or \"Untitled\"\n",
    "        doc_id = str(p.get(\"doc_id\") or p.get(\"id\") or getattr(raw, \"id\", \"\") or i)\n",
    "\n",
    "        entry = entry_template.format(n=i, title=title, text=text, doc_id=doc_id)\n",
    "        trial = (\"\\n\\n---\\n\\n\".join(chunks + [entry])).strip()\n",
    "        prompt = prompt_template.format(question=_clean(query), context=trial).strip()\n",
    "\n",
    "        # measure tokenized length \n",
    "        messages = [\n",
    "            {\"role\": \"system\", \"content\": \"You are a helpful FIQA assistant. Be concise and factual.\"},\n",
    "            {\"role\": \"user\", \"content\": prompt},\n",
    "        ]\n",
    "        ids = _encode_chat(messages)\n",
    "        if ids.shape[-1] <= budget:\n",
    "            chunks.append(entry)\n",
    "            continue\n",
    "\n",
    "        # try truncating this last entry’s text to fit; if still over, stop\n",
    "        # estimate how many tokens we can spend on this entry by binary truncation\n",
    "        lo, hi = 0, len(tok.encode(entry, add_special_tokens=False))\n",
    "        best = \"\"\n",
    "        while lo <= hi:\n",
    "            mid = (lo + hi) // 2\n",
    "            trial_entry = _truncate_to_tokens(entry, mid)\n",
    "            trial = (\"\\n\\n---\\n\\n\".join(chunks + [trial_entry])).strip()\n",
    "            prompt = prompt_template.format(question=_clean(query), context=trial).strip()\n",
    "            ids = _encode_chat([\n",
    "                {\"role\": \"system\", \"content\": \"You are a helpful FIQA assistant. Be concise and factual.\"},\n",
    "                {\"role\": \"user\", \"content\": prompt},\n",
    "            ])\n",
    "            if ids.shape[-1] <= budget:\n",
    "                best = trial_entry\n",
    "                lo = mid + 1\n",
    "            else:\n",
    "                hi = mid - 1\n",
    "        if best:\n",
    "            chunks.append(best)\n",
    "        break  \n",
    "\n",
    "    context = (\"\\n\\n---\\n\\n\".join(chunks)).strip()\n",
    "    return prompt_template.format(question=_clean(query), context=context).strip()\n",
    "\n",
    "# LLM call\n",
    "def llm(prompt):\n",
    "    messages = [\n",
    "        {\"role\": \"system\", \"content\": \"You are a helpful FIQA assistant. Be concise and factual.\"},\n",
    "        {\"role\": \"user\", \"content\": prompt},\n",
    "    ]\n",
    "    input_ids = _encode_chat(messages)\n",
    "    prompt_len = input_ids.shape[-1]\n",
    "    with torch.inference_mode():\n",
    "        out = model.generate(\n",
    "            input_ids.to(\"cpu\"),\n",
    "            max_new_tokens=int(MAX_NEW_TOKENS),\n",
    "            do_sample=False,\n",
    "            no_repeat_ngram_size=3,\n",
    "            repetition_penalty=float(REPETITION_PENALTY),\n",
    "            pad_token_id=PAD_ID,\n",
    "            eos_token_id=tok.eos_token_id,\n",
    "            use_cache=True,\n",
    "        )\n",
    "    return tok.decode(out[0, prompt_len:], skip_special_tokens=True).strip()\n",
    "\n",
    "# search adapter\n",
    "def search(query):\n",
    "    points = rrf_search(query, limit=10, dense_k=200, sparse_k=400)\n",
    "    docs = []\n",
    "    for p in (points or []):\n",
    "        payload = getattr(p, \"payload\", {}) or {}\n",
    "        if \"text\" not in payload and \"content\" in payload:\n",
    "            payload[\"text\"] = payload[\"content\"]\n",
    "        if not payload.get(\"title\"):\n",
    "            txt = (payload.get(\"text\") or \"\").strip()\n",
    "            first = re.split(r\"(?<=[.!?])\\s+\", txt)[0] if txt else \"\"\n",
    "            payload[\"title\"] = first or \"Untitled\"\n",
    "        docs.append(payload)\n",
    "    return docs\n",
    "\n",
    "def rag(query):\n",
    "    search_results = search(query)\n",
    "    prompt = build_prompt(query, search_results)\n",
    "    return llm(prompt)\n"
   ]
  },
  {
   "cell_type": "code",
   "execution_count": 36,
   "id": "d9b78aa8",
   "metadata": {},
   "outputs": [],
   "source": [
    "def rag(query):\n",
    "    search_results = search(query)\n",
    "    prompt = build_prompt(query, search_results)\n",
    "    answer = llm(prompt)\n",
    "    return answer"
   ]
  },
  {
   "cell_type": "code",
   "execution_count": 37,
   "id": "c86c0c85",
   "metadata": {},
   "outputs": [
    {
     "name": "stderr",
     "output_type": "stream",
     "text": [
      "The attention mask is not set and cannot be inferred from input because pad token is same as eos token. As a consequence, you may observe unexpected behavior. Please pass your input's `attention_mask` to obtain reliable results.\n"
     ]
    },
    {
     "name": "stdout",
     "output_type": "stream",
     "text": [
      "In financial terms, a yield is the percentage of interest earned on a fixed-income investment, such as a bond or stock, divided by its face value. When calculating a yield, the interest earned is calculated over a specific period, such a year or a quarter, and the face value is the original investment amount. The higher the yield, or the lower the interest paid, the more attractive the investments are to potential investors. Bonds have a fixed interest rate, which means that the investors receive a predetermined amount of interest each year, regardless of market conditions. On the other hand, stock prices fluctuate based on various factors, including economic growth, corporate earnings, and market sentiment. While stocks may have higher yields than bonds, they are subject to market volatility and risk, and their returns may vary widely depending on the performance of individual companies and industries. Investors should carefully evaluate the risks and\n"
     ]
    }
   ],
   "source": [
    "question = \"Stocks and bonds have yields, but what is a yield?\"\n",
    "answer = rag(question)\n",
    "print(answer)"
   ]
  },
  {
   "cell_type": "markdown",
   "id": "87fa7bc2",
   "metadata": {},
   "source": [
    "RAG Evaluation"
   ]
  },
  {
   "cell_type": "code",
   "execution_count": null,
   "id": "125341ec",
   "metadata": {},
   "outputs": [],
   "source": [
    "#  Evaluator system prompt \n",
    "\n",
    "EVAL_SYSTEM_PROMPT = ( 'You are an expert evaluator. Output ONLY a single JSON object with keys \"Relevance\" and \"Explanation\"')\n",
    "\n",
    "\n",
    "ALLOWED = {\"IRRELEVANT\", \"RELEVANT\"}\n",
    "\n",
    "prompt2_template = (\n",
    "    \"Evaluate the quality of the generated answer to the user question using ONLY the criteria below.\\n\\n\"\n",
    "    \"Binary quality rubric (decide one):\\n\"\n",
    "    \"• RELEVANT: Directly answers the question, factually correct, specific, and clearly grounded in the provided context. \"\n",
    "    \"Borderline/partial answers count as RELEVANT only if they materially address the question AND cite/support from the context.\\n\"\n",
    "    \"• IRRELEVANT: Off-topic, incorrect, generic, or contradicts/ignores the provided context; lacks clear support from the context; \"\n",
    "    \"or is a refusal/unactionable meta-response.\\n\\n\"\n",
    "    \"Question: {question}\\n\"\n",
    "    \"Generated Answer (verbatim):\\n<<<ANSWER>>>\\n{answer}\\n<<<END>>>\\n\\n\"\n",
    "    \"Return ONLY a parsable JSON object (no code fences, no extra text) with EXACTLY these keys:\\n\"\n",
    "    \"{{\\n\"\n",
    "    '  \"Relevance\": \"IRRELEVANT\" | \"RELEVANT\",\\n'\n",
    "    '  \"Explanation\": \"[Brief reason citing what made it RELEVANT or IRRELEVANT, referencing the context]\"\\n'\n",
    "    \"}}\"\n",
    ")\n",
    "\n"
   ]
  },
  {
   "cell_type": "code",
   "execution_count": 39,
   "id": "100fdc59",
   "metadata": {},
   "outputs": [],
   "source": [
    "prompt = prompt2_template.format(question=question, answer=answer)"
   ]
  },
  {
   "cell_type": "code",
   "execution_count": 40,
   "id": "59bcad90",
   "metadata": {},
   "outputs": [
    {
     "name": "stdout",
     "output_type": "stream",
     "text": [
      "Evaluate the quality of the generated answer to the user question using ONLY the criteria below.\n",
      "\n",
      "Binary quality rubric (decide one):\n",
      "• RELEVANT: Directly answers the question, factually correct, specific, and clearly grounded in the provided context. Borderline/partial answers count as RELEVANT only if they materially address the question AND cite/support from the context.\n",
      "• IRRELEVANT: Off-topic, incorrect, generic, or contradicts/ignores the provided context; lacks clear support from the context; or is a refusal/unactionable meta-response.\n",
      "\n",
      "Question: Stocks and bonds have yields, but what is a yield?\n",
      "Generated Answer (verbatim):\n",
      "<<<ANSWER>>>\n",
      "In financial terms, a yield is the percentage of interest earned on a fixed-income investment, such as a bond or stock, divided by its face value. When calculating a yield, the interest earned is calculated over a specific period, such a year or a quarter, and the face value is the original investment amount. The higher the yield, or the lower the interest paid, the more attractive the investments are to potential investors. Bonds have a fixed interest rate, which means that the investors receive a predetermined amount of interest each year, regardless of market conditions. On the other hand, stock prices fluctuate based on various factors, including economic growth, corporate earnings, and market sentiment. While stocks may have higher yields than bonds, they are subject to market volatility and risk, and their returns may vary widely depending on the performance of individual companies and industries. Investors should carefully evaluate the risks and\n",
      "<<<END>>>\n",
      "\n",
      "Return ONLY a parsable JSON object (no code fences, no extra text) with EXACTLY these keys:\n",
      "{\n",
      "  \"Relevance\": \"IRRELEVANT\" | \"RELEVANT\",\n",
      "  \"Explanation\": \"[Brief reason citing what made it RELEVANT or IRRELEVANT, referencing the context]\"\n",
      "}\n"
     ]
    }
   ],
   "source": [
    "print(prompt)"
   ]
  },
  {
   "cell_type": "code",
   "execution_count": 41,
   "id": "2c290f12",
   "metadata": {},
   "outputs": [],
   "source": [
    "qrels_ids = {str(k) for k in qrels_test.keys()}\n",
    "queries_test = [q for q in queries if str(q.get(\"id\")) in qrels_ids]"
   ]
  },
  {
   "cell_type": "code",
   "execution_count": 42,
   "id": "e06317aa",
   "metadata": {},
   "outputs": [
    {
     "data": {
      "text/plain": [
       "648"
      ]
     },
     "execution_count": 42,
     "metadata": {},
     "output_type": "execute_result"
    }
   ],
   "source": [
    "len(queries_test)"
   ]
  },
  {
   "cell_type": "code",
   "execution_count": 53,
   "id": "8b6d9cb0",
   "metadata": {},
   "outputs": [
    {
     "data": {
      "text/plain": [
       "[{'id': '4641', 'query': 'Where should I park my rainy-day / emergency fund?'},\n",
       " {'id': '5503',\n",
       "  'query': 'Tax considerations for selling a property below appraised value to family?'},\n",
       " {'id': '7803',\n",
       "  'query': 'Can the Delta be used to calculate the option premium given a certain target?'},\n",
       " {'id': '7017', 'query': 'Basic Algorithmic Trading Strategy'},\n",
       " {'id': '10152',\n",
       "  'query': 'What does a high operating margin but a small but positive ROE imply about a company?'},\n",
       " {'id': '3451',\n",
       "  'query': 'Should you keep your stocks if you are too late to sell?'},\n",
       " {'id': '4804',\n",
       "  'query': 'How do financial services aimed at women differ from conventional services?'},\n",
       " {'id': '7911',\n",
       "  'query': \"What is the difference between a 'trader' and a 'stockbroker'?\"},\n",
       " {'id': '10809', 'query': 'Definitions of leverage and of leverage factor'},\n",
       " {'id': '6715',\n",
       "  'query': 'What does it mean if “IPOs - normally are sold with an `underwriting discount` (a built in commission)”'},\n",
       " {'id': '2388',\n",
       "  'query': 'Do financial advisors get better deals on mortgages?'},\n",
       " {'id': '753', 'query': 'Taxes due for hobbyist Group Buy'},\n",
       " {'id': '4465',\n",
       "  'query': 'How to donate to charity that will make a difference?'},\n",
       " {'id': '7326', 'query': 'Do brokers execute every trade on the exchange?'},\n",
       " {'id': '5951',\n",
       "  'query': \"Why can't house prices be out of tune with salaries\"},\n",
       " {'id': '5653',\n",
       "  'query': 'Steps and timing of the SEIS investment (in the UK)'},\n",
       " {'id': '10827',\n",
       "  'query': \"How much should I be contributing to my 401k given my employer's contribution?\"},\n",
       " {'id': '9771',\n",
       "  'query': \"Is there any emprical research done on 'adding to a loser'\"},\n",
       " {'id': '7105',\n",
       "  'query': 'What is the difference between fixed-income duration and equity duration?'},\n",
       " {'id': '9332',\n",
       "  'query': 'What can I do with a physical stock certificate for a now-mutual company?'},\n",
       " {'id': '3724',\n",
       "  'query': 'Should you always max out contributions to your 401k?'},\n",
       " {'id': '5853',\n",
       "  'query': 'Paying Off Principal of Home vs. Investing In Mutual Fund'},\n",
       " {'id': '6832', 'query': 'incorrect printed information on check stock'},\n",
       " {'id': '6807',\n",
       "  'query': 'How to incorporate dividends while calculating annual return of a Stock'},\n",
       " {'id': '570', 'query': 'Employer options when setting up 401k for employees'},\n",
       " {'id': '7279',\n",
       "  'query': 'If I invest in securities denominated in a foreign currency, should I hedge my currency risk?'},\n",
       " {'id': '594',\n",
       "  'query': 'Should a retail trader bother about reading SEC filings'},\n",
       " {'id': '10122', 'query': 'Why diversify stocks/investments?'},\n",
       " {'id': '3091', 'query': 'Am I considered in debt if I pay a mortgage?'},\n",
       " {'id': '904',\n",
       "  'query': \"How do I set up Quickbooks for a small property rental company that holds its properties in separate LLC's?\"},\n",
       " {'id': '4037',\n",
       "  'query': 'How separate individual expenses from family expenses in Gnucash?'},\n",
       " {'id': '8537', 'query': 'What is an “Options Account”?'},\n",
       " {'id': '3357',\n",
       "  'query': 'Why big clients want the contractor to be incorporated before giving them work'},\n",
       " {'id': '1783', 'query': 'Freelancing Tax implication'},\n",
       " {'id': '6004',\n",
       "  'query': 'Put-Call parity - what is the difference between the two representations?'},\n",
       " {'id': '2923', 'query': 'Should I give to charity by check or credit card?'},\n",
       " {'id': '5271',\n",
       "  'query': 'Why are auto leases stubbornly strict about visa status and how to work around that?'},\n",
       " {'id': '2108',\n",
       "  'query': 'Can I pay taxes using bill pay from my on-line checking account?'},\n",
       " {'id': '7590',\n",
       "  'query': 'Why are US target retirement funds weighted so heavily towards US stocks?'},\n",
       " {'id': '932',\n",
       "  'query': 'Is freelance income earned by a U.S. citizen while living abroad subject to state income tax?'},\n",
       " {'id': '5981',\n",
       "  'query': 'Is it a good investment for a foreigner to purchase a flat/apartment in China?'},\n",
       " {'id': '4837',\n",
       "  'query': 'When applying for a mortgage, can it also cover outstanding debts?'},\n",
       " {'id': '4415', 'query': 'How much is inflation?'},\n",
       " {'id': '1915',\n",
       "  'query': 'Should I pay a company who failed to collect VAT from me over 6 months ago?'},\n",
       " {'id': '8378', 'query': 'Should I wait a few days to sell ESPP Stock?'},\n",
       " {'id': '2316',\n",
       "  'query': 'What exchange rate does El Al use when converting final payment amount to shekels?'},\n",
       " {'id': '8102',\n",
       "  'query': 'When do I sell a stock that I hold as a long-term position?'},\n",
       " {'id': '3405',\n",
       "  'query': 'Non Resident aliens - Question of standard vs itemized'},\n",
       " {'id': '7928',\n",
       "  'query': 'If I believe a stock is going to fall, what options do I have to invest on this?'},\n",
       " {'id': '603',\n",
       "  'query': \"Will one’s education loan application be rejected if one doesn't have a payslip providing collateral?\"},\n",
       " {'id': '1281',\n",
       "  'query': 'How FTB and IRS find mistakes in amended tax returns? Are their processes reliable?'},\n",
       " {'id': '3830',\n",
       "  'query': 'US citizen transferring money to Indian fiance to buy property'},\n",
       " {'id': '3837',\n",
       "  'query': 'Opening a Roth IRA account, what is the fee structure for Vanguard, Scottrade and TIAA-CREF'},\n",
       " {'id': '4447',\n",
       "  'query': 'Should I always hold short term bonds till maturity?'},\n",
       " {'id': '2376',\n",
       "  'query': 'Why do gas stations charge different amounts in the same local area?'},\n",
       " {'id': '4777',\n",
       "  'query': 'How to finance necessary repairs to our home in order to sell it?'},\n",
       " {'id': '5741', 'query': 'Learning investing and the stock market'},\n",
       " {'id': '2318', 'query': 'F1 student and eBay selling tax'},\n",
       " {'id': '620',\n",
       "  'query': 'Is it wise to have plenty of current accounts in different banks?'},\n",
       " {'id': '8271', 'query': 'Income in zero-interest environment'},\n",
       " {'id': '4865',\n",
       "  'query': 'Why are historical prices of stocks different on different websites? Which one should I believe?'},\n",
       " {'id': '864',\n",
       "  'query': 'Why use accounting software like Quickbooks instead of Excel spreadsheets?'},\n",
       " {'id': '5888',\n",
       "  'query': 'Interest charges on balance transfer when purchases are involved'},\n",
       " {'id': '2568', 'query': 'How to pay with cash when car shopping?'},\n",
       " {'id': '5150',\n",
       "  'query': 'What credit card information are offline US merchants allowed to collect for purposes other than the transaction?'},\n",
       " {'id': '7124',\n",
       "  'query': 'How come we can find stocks with a Price-to-Book ratio less than 1?'},\n",
       " {'id': '2857',\n",
       "  'query': 'I have around 60K $. Thinking about investing in Oil, how to proceed?'},\n",
       " {'id': '8539',\n",
       "  'query': 'Can the risk of investing in an asset be different for different investors?'},\n",
       " {'id': '6896', 'query': 'Selling high, pay capital gains, re-purchase later'},\n",
       " {'id': '1085', 'query': 'How do disputed debts work on credit reports?'},\n",
       " {'id': '5422',\n",
       "  'query': 'What are some good books for learning stocks, bonds, derivatives e.t.c for beginner with a math background?'},\n",
       " {'id': '8247', 'query': \"Tax on Stocks or ETF's\"},\n",
       " {'id': '4946',\n",
       "  'query': 'Something looks off about Mitsubishi financial data'},\n",
       " {'id': '10482',\n",
       "  'query': 'Rollover into bond fund to do dollar cost averaging [duplicate]'},\n",
       " {'id': '4571',\n",
       "  'query': \"HSBC Hong Kong's “Deposit Plus” Product: What is it, and what strategies to employ?\"},\n",
       " {'id': '8789',\n",
       "  'query': 'What does “profits to the shareholders jumped to 15 cents a share” mean?'},\n",
       " {'id': '8034',\n",
       "  'query': 'What is the average cost of a portfolio on a trading site?'},\n",
       " {'id': '4600',\n",
       "  'query': \"Why government bonds fluctuate so much, even though interest rates don't change that often?\"},\n",
       " {'id': '2423', 'query': 'At what age should I start or stop saving money?'},\n",
       " {'id': '8475',\n",
       "  'query': 'Why I cannot find a “Pure Cash” option in 401k investments?'},\n",
       " {'id': '4523',\n",
       "  'query': 'What should I do with my $25k to invest as a 20 years old?'},\n",
       " {'id': '8513', 'query': 'Buy on dip when earnings fail?'},\n",
       " {'id': '1198',\n",
       "  'query': 'What are the consequences of IRS “reclassification” on both employer and employee?'},\n",
       " {'id': '9291',\n",
       "  'query': \"Are there any consequences for investing in Vanguard's Admiral Shares funds instead of ETF's in a Roth IRA?\"},\n",
       " {'id': '8532', 'query': 'What do these options trading terms mean?'},\n",
       " {'id': '1824',\n",
       "  'query': 'Is there a way to open a U.S. bank account for my LLC remotely?'},\n",
       " {'id': '5054', 'query': 'How to stress test an investment plan?'},\n",
       " {'id': '1159',\n",
       "  'query': 'what is the best way to do a freelancing job over the summer for a student'},\n",
       " {'id': '4920',\n",
       "  'query': 'Does financing a portfolio on margin affect the variance of a portfolio?'},\n",
       " {'id': '68', 'query': 'Intentions of Deductible Amount for Small Business'},\n",
       " {'id': '7269',\n",
       "  'query': 'How do I track investment performance in Quicken across rollovers?'},\n",
       " {'id': '750',\n",
       "  'query': 'Paid part of my state refund back last year; now must declare the initial amount as income?'},\n",
       " {'id': '9701', 'query': 'How to bet against the London housing market?'},\n",
       " {'id': '6199',\n",
       "  'query': 'How can all these countries owe so much money?  Why & where did they borrow it from?'},\n",
       " {'id': '9126', 'query': 'Short an option - random assignment?'},\n",
       " {'id': '34', 'query': '401k Transfer After Business Closure'},\n",
       " {'id': '4011',\n",
       "  'query': 'How can I deal with a spouse who compulsively spends?'},\n",
       " {'id': '4700',\n",
       "  'query': 'Better to get loan from finance company or bank considering the drop of credit score?'},\n",
       " {'id': '6395', 'query': 'Option settlement for calendar spreads'},\n",
       " {'id': '852', 'query': 'Dalbar: How can the average investor lose money?'}]"
      ]
     },
     "execution_count": 53,
     "metadata": {},
     "output_type": "execute_result"
    }
   ],
   "source": [
    "df_test_query = pd.DataFrame(queries_test)\n",
    "test_queries = df_test_query.to_dict(orient='records')\n",
    "sample_test_df = df_test_query[:100]\n",
    "sample_test = sample_test_df.to_dict(orient=\"records\")\n",
    "sample_test[:100]"
   ]
  },
  {
   "cell_type": "code",
   "execution_count": 54,
   "id": "79d706ba",
   "metadata": {},
   "outputs": [],
   "source": [
    "import json, re\n",
    "\n",
    "ALLOWED = {\"IRRELEVANT\", \"RELEVANT\"}\n",
    "\n",
    "def extract_evaluation(text: str) -> dict:\n",
    "    for t in (\n",
    "        text,\n",
    "        (re.search(r\"```(?:json)?\\s*([\\s\\S]*?)\\s*```\", text, re.I) or [None, \"\"])[1],\n",
    "        text[text.find(\"{\"): text.rfind(\"}\")+1] if \"{\" in text and \"}\" in text else \"\",\n",
    "    ):\n",
    "        try:\n",
    "            obj = json.loads(t)\n",
    "            break\n",
    "        except Exception:\n",
    "            obj = None\n",
    "    # normalize\n",
    "    if isinstance(obj, dict):\n",
    "        k = {str(k).lower().strip(): v for k, v in obj.items()}\n",
    "        rel = k.get(\"relevance\") or k.get(\"label\") or k.get(\"result\") or \"\"\n",
    "        expl = k.get(\"explanation\") or k.get(\"reason\") or k.get(\"feedback\")\n",
    "    else:\n",
    "        rel = \"\"\n",
    "        expl = None\n",
    "    # label cleanup → binary\n",
    "    if isinstance(rel, str):\n",
    "        rel = rel.upper().replace(\"-\", \"_\").replace(\" \", \"_\")\n",
    "        if rel in {\"NON_RELEVANT\", \"NOT_RELEVANT\"}: rel = \"IRRELEVANT\"\n",
    "        if rel in {\"GOOD\"}: rel = \"RELEVANT\"\n",
    "        if rel.startswith(\"PART\") or rel in {\"AVERAGE\", \"BAD\", \"NOT_GOOD\", \"OFF_TOPIC\"}: rel = \"IRRELEVANT\"\n",
    "    if rel not in ALLOWED:\n",
    "        # fallback from free text\n",
    "        m = re.search(r\"\\b(RELEVANT|IRRELEVANT)\\b\", text, re.I)\n",
    "        rel = m.group(1).upper() if m else \"IRRELEVANT\"\n",
    "    # explanation fallback\n",
    "    if not isinstance(expl, str) or not expl.strip():\n",
    "        m = re.search(r\"Explanation\\s*:\\s*(.+)\", text, re.I | re.S)\n",
    "        expl = (m.group(1) if m else re.sub(r\"```[\\s\\S]*?```\", \"\", text)).strip()[:300] or \"No explanation provided.\"\n",
    "    return {\"Relevance\": rel, \"Explanation\": expl}\n"
   ]
  },
  {
   "cell_type": "code",
   "execution_count": 55,
   "id": "f16bc6b9",
   "metadata": {},
   "outputs": [
    {
     "name": "stderr",
     "output_type": "stream",
     "text": [
      "  0%|          | 0/100 [00:00<?, ?it/s]"
     ]
    },
    {
     "name": "stderr",
     "output_type": "stream",
     "text": [
      "100%|██████████| 100/100 [7:39:22<00:00, 275.63s/it] \n"
     ]
    }
   ],
   "source": [
    "evaluations = []\n",
    "for record in tqdm(sample_test):\n",
    "    question = record[\"query\"]\n",
    "    answer = rag(question)\n",
    "\n",
    "    prompt = prompt2_template.format(question=question, answer=answer)\n",
    "    evaluation_text = llm(prompt)\n",
    "\n",
    "    try:\n",
    "        evaluation = extract_evaluation(evaluation_text)\n",
    "    except Exception as e:\n",
    "        evaluation = {\n",
    "            \"Relevance\": \"IRRELEVANT\",\n",
    "            \"Explanation\": f\"Parsing failed: {e}. Raw: {evaluation_text[:500]}\"\n",
    "        }\n",
    "\n",
    "    evaluations.append((record, answer, evaluation))"
   ]
  },
  {
   "cell_type": "code",
   "execution_count": 56,
   "id": "1cf31b58",
   "metadata": {},
   "outputs": [],
   "source": [
    "import pandas as pd\n",
    "\n",
    "df_eval = pd.DataFrame(evaluations, columns=[\"record\", \"answer\", \"evaluation\"])\n",
    "df_eval[\"id\"] = df_eval[\"record\"].apply(lambda d: d[\"id\"])\n",
    "df_eval[\"question\"] = df_eval[\"record\"].apply(lambda d: d[\"query\"])\n",
    "df_eval[\"relevance\"] = df_eval[\"evaluation\"].apply(lambda d: d[\"Relevance\"])\n",
    "df_eval[\"explanation\"] = df_eval[\"evaluation\"].apply(lambda d: d[\"Explanation\"])\n",
    "del df_eval['record']\n",
    "del df_eval['evaluation']\n"
   ]
  },
  {
   "cell_type": "code",
   "execution_count": 57,
   "id": "d62516c6",
   "metadata": {},
   "outputs": [
    {
     "data": {
      "text/plain": [
       "relevance\n",
       "RELEVANT      0.97\n",
       "IRRELEVANT    0.03\n",
       "Name: proportion, dtype: float64"
      ]
     },
     "execution_count": 57,
     "metadata": {},
     "output_type": "execute_result"
    }
   ],
   "source": [
    "df_eval.relevance.value_counts(normalize=True)"
   ]
  },
  {
   "cell_type": "code",
   "execution_count": 58,
   "id": "76016c46",
   "metadata": {},
   "outputs": [
    {
     "data": {
      "text/html": [
       "<div>\n",
       "<style scoped>\n",
       "    .dataframe tbody tr th:only-of-type {\n",
       "        vertical-align: middle;\n",
       "    }\n",
       "\n",
       "    .dataframe tbody tr th {\n",
       "        vertical-align: top;\n",
       "    }\n",
       "\n",
       "    .dataframe thead th {\n",
       "        text-align: right;\n",
       "    }\n",
       "</style>\n",
       "<table border=\"1\" class=\"dataframe\">\n",
       "  <thead>\n",
       "    <tr style=\"text-align: right;\">\n",
       "      <th></th>\n",
       "      <th>answer</th>\n",
       "      <th>id</th>\n",
       "      <th>question</th>\n",
       "      <th>relevance</th>\n",
       "      <th>explanation</th>\n",
       "    </tr>\n",
       "  </thead>\n",
       "  <tbody>\n",
       "    <tr>\n",
       "      <th>0</th>\n",
       "      <td>The FIQAs assistant recommends considering kee...</td>\n",
       "      <td>4641</td>\n",
       "      <td>Where should I park my rainy-day / emergency f...</td>\n",
       "      <td>RELEVANT</td>\n",
       "      <td>The explanation</td>\n",
       "    </tr>\n",
       "    <tr>\n",
       "      <th>1</th>\n",
       "      <td>Yes, you can appeal your county' s appraisemen...</td>\n",
       "      <td>5503</td>\n",
       "      <td>Tax considerations for selling a property belo...</td>\n",
       "      <td>RELEVANT</td>\n",
       "      <td>To evaluate the quality score of the binary re...</td>\n",
       "    </tr>\n",
       "    <tr>\n",
       "      <th>2</th>\n",
       "      <td>Yes, the Deltas of options can be used as inpu...</td>\n",
       "      <td>7803</td>\n",
       "      <td>Can the Delta be used to calculate the option ...</td>\n",
       "      <td>RELEVANT</td>\n",
       "      <td>The binary quality rubrics I have listed above...</td>\n",
       "    </tr>\n",
       "    <tr>\n",
       "      <th>3</th>\n",
       "      <td>To summarize the key points from the given tex...</td>\n",
       "      <td>7017</td>\n",
       "      <td>Basic Algorithmic Trading Strategy</td>\n",
       "      <td>RELEVANT</td>\n",
       "      <td>The binary quality rubrics used in evaluating ...</td>\n",
       "    </tr>\n",
       "    <tr>\n",
       "      <th>4</th>\n",
       "      <td>A high operating profit margin but low return ...</td>\n",
       "      <td>10152</td>\n",
       "      <td>What does a high operating margin but a small ...</td>\n",
       "      <td>RELEVANT</td>\n",
       "      <td>The binary quality rubrics used in this evalua...</td>\n",
       "    </tr>\n",
       "    <tr>\n",
       "      <th>...</th>\n",
       "      <td>...</td>\n",
       "      <td>...</td>\n",
       "      <td>...</td>\n",
       "      <td>...</td>\n",
       "      <td>...</td>\n",
       "    </tr>\n",
       "    <tr>\n",
       "      <th>95</th>\n",
       "      <td>To summarize the key points from the given tex...</td>\n",
       "      <td>34</td>\n",
       "      <td>401k Transfer After Business Closure</td>\n",
       "      <td>RELEVANT</td>\n",
       "      <td>The binary quality rubrics used by the author ...</td>\n",
       "    </tr>\n",
       "    <tr>\n",
       "      <th>96</th>\n",
       "      <td>To deal with someone who compulsionally spends...</td>\n",
       "      <td>4011</td>\n",
       "      <td>How can I deal with a spouse who compulsively ...</td>\n",
       "      <td>RELEVANT</td>\n",
       "      <td>The binary quality rubrics used in evaluating ...</td>\n",
       "    </tr>\n",
       "    <tr>\n",
       "      <th>97</th>\n",
       "      <td>To answer the question, the context suggests t...</td>\n",
       "      <td>4700</td>\n",
       "      <td>Better to get loan from finance company or ban...</td>\n",
       "      <td>RELEVANT</td>\n",
       "      <td>The binary quality rubrics used by the author ...</td>\n",
       "    </tr>\n",
       "    <tr>\n",
       "      <th>98</th>\n",
       "      <td>To summarize the key points mentioned in the g...</td>\n",
       "      <td>6395</td>\n",
       "      <td>Option settlement for calendar spreads</td>\n",
       "      <td>RELEVANT</td>\n",
       "      <td>The binary quality rubrics used in this evalua...</td>\n",
       "    </tr>\n",
       "    <tr>\n",
       "      <th>99</th>\n",
       "      <td>To answer the question, \"How can the typical i...</td>\n",
       "      <td>852</td>\n",
       "      <td>Dalbar: How can the average investor lose money?</td>\n",
       "      <td>RELEVANT</td>\n",
       "      <td>The binary quality rubrics used in this evalua...</td>\n",
       "    </tr>\n",
       "  </tbody>\n",
       "</table>\n",
       "<p>100 rows × 5 columns</p>\n",
       "</div>"
      ],
      "text/plain": [
       "                                               answer     id  \\\n",
       "0   The FIQAs assistant recommends considering kee...   4641   \n",
       "1   Yes, you can appeal your county' s appraisemen...   5503   \n",
       "2   Yes, the Deltas of options can be used as inpu...   7803   \n",
       "3   To summarize the key points from the given tex...   7017   \n",
       "4   A high operating profit margin but low return ...  10152   \n",
       "..                                                ...    ...   \n",
       "95  To summarize the key points from the given tex...     34   \n",
       "96  To deal with someone who compulsionally spends...   4011   \n",
       "97  To answer the question, the context suggests t...   4700   \n",
       "98  To summarize the key points mentioned in the g...   6395   \n",
       "99  To answer the question, \"How can the typical i...    852   \n",
       "\n",
       "                                             question relevance  \\\n",
       "0   Where should I park my rainy-day / emergency f...  RELEVANT   \n",
       "1   Tax considerations for selling a property belo...  RELEVANT   \n",
       "2   Can the Delta be used to calculate the option ...  RELEVANT   \n",
       "3                  Basic Algorithmic Trading Strategy  RELEVANT   \n",
       "4   What does a high operating margin but a small ...  RELEVANT   \n",
       "..                                                ...       ...   \n",
       "95               401k Transfer After Business Closure  RELEVANT   \n",
       "96  How can I deal with a spouse who compulsively ...  RELEVANT   \n",
       "97  Better to get loan from finance company or ban...  RELEVANT   \n",
       "98             Option settlement for calendar spreads  RELEVANT   \n",
       "99   Dalbar: How can the average investor lose money?  RELEVANT   \n",
       "\n",
       "                                          explanation  \n",
       "0                                     The explanation  \n",
       "1   To evaluate the quality score of the binary re...  \n",
       "2   The binary quality rubrics I have listed above...  \n",
       "3   The binary quality rubrics used in evaluating ...  \n",
       "4   The binary quality rubrics used in this evalua...  \n",
       "..                                                ...  \n",
       "95  The binary quality rubrics used by the author ...  \n",
       "96  The binary quality rubrics used in evaluating ...  \n",
       "97  The binary quality rubrics used by the author ...  \n",
       "98  The binary quality rubrics used in this evalua...  \n",
       "99  The binary quality rubrics used in this evalua...  \n",
       "\n",
       "[100 rows x 5 columns]"
      ]
     },
     "execution_count": 58,
     "metadata": {},
     "output_type": "execute_result"
    }
   ],
   "source": [
    "df_eval"
   ]
  },
  {
   "cell_type": "code",
   "execution_count": 59,
   "id": "d8fba743",
   "metadata": {},
   "outputs": [
    {
     "data": {
      "text/plain": [
       "'What does a high operating margin but a small but positive ROE imply about a company?'"
      ]
     },
     "execution_count": 59,
     "metadata": {},
     "output_type": "execute_result"
    }
   ],
   "source": [
    "df_eval[\"question\"][4]"
   ]
  },
  {
   "cell_type": "code",
   "execution_count": 60,
   "id": "cb7da5b3",
   "metadata": {},
   "outputs": [
    {
     "data": {
      "text/plain": [
       "'A high operating profit margin but low return on equity indicates that the business is making a profit but not generating enough revenue to cover its costs. This can lead to a situation where the company is unable to pay dividends or repay debt, potentially leading to financial difficulties. On the other hand, a high return on equipment (ROEQ) but low operating profit (OPM) suggests that the cost of capital is too high for the company to generate enough rewards from its assets. This could indicate that the firm is struggling to maintain its profitability despite investments in new equipment or processes. A high ROEQ but low OPM implies that the asset-based nature of the business means that it is not generating sufficient revenue from its fixed assets to cover the costs associated with owning and managing those assets. Overall, a combination of factors such as high operating costs, low profitability, and high asset values can contribute to a negative ROE and a high OPM'"
      ]
     },
     "execution_count": 60,
     "metadata": {},
     "output_type": "execute_result"
    }
   ],
   "source": [
    "df_eval[\"answer\"][4]"
   ]
  },
  {
   "cell_type": "code",
   "execution_count": 61,
   "id": "aa51d3ad",
   "metadata": {},
   "outputs": [
    {
     "data": {
      "text/plain": [
       "relevance\n",
       "RELEVANT      0.97\n",
       "IRRELEVANT    0.03\n",
       "Name: proportion, dtype: float64"
      ]
     },
     "execution_count": 61,
     "metadata": {},
     "output_type": "execute_result"
    }
   ],
   "source": [
    "df_eval.relevance.value_counts(normalize=True)"
   ]
  },
  {
   "cell_type": "code",
   "execution_count": 63,
   "id": "6038371a",
   "metadata": {},
   "outputs": [],
   "source": [
    "df_eval.to_csv(\"data/df_eval.csv\")"
   ]
  },
  {
   "cell_type": "code",
   "execution_count": null,
   "id": "85261bd0",
   "metadata": {},
   "outputs": [],
   "source": []
  }
 ],
 "metadata": {
  "kernelspec": {
   "display_name": "finance-retrieve",
   "language": "python",
   "name": "python3"
  },
  "language_info": {
   "codemirror_mode": {
    "name": "ipython",
    "version": 3
   },
   "file_extension": ".py",
   "mimetype": "text/x-python",
   "name": "python",
   "nbconvert_exporter": "python",
   "pygments_lexer": "ipython3",
   "version": "3.11.13"
  }
 },
 "nbformat": 4,
 "nbformat_minor": 5
}
